{
 "cells": [
  {
   "cell_type": "markdown",
   "id": "1a619a60",
   "metadata": {},
   "source": [
    "## Importing Libraries and Data"
   ]
  },
  {
   "cell_type": "code",
   "execution_count": 29,
   "id": "e8206227",
   "metadata": {},
   "outputs": [],
   "source": [
    "import numpy as np\n",
    "import pandas as pd\n",
    "import matplotlib.pyplot as plt\n",
    "%matplotlib inline\n",
    "\n",
    "from sklearn.preprocessing import StandardScaler\n",
    "from sklearn.cluster import KMeans\n",
    "from sklearn.metrics import silhouette_score"
   ]
  },
  {
   "cell_type": "code",
   "execution_count": 2,
   "id": "40599958",
   "metadata": {},
   "outputs": [],
   "source": [
    "# Reading the data\n",
    "data = pd.read_excel('online_retail_II.xlsx', sheet_name=1, index_col=False)"
   ]
  },
  {
   "cell_type": "markdown",
   "id": "1dfc7921",
   "metadata": {},
   "source": [
    "## Data Check and Cleaning"
   ]
  },
  {
   "cell_type": "code",
   "execution_count": 3,
   "id": "2e83634c",
   "metadata": {},
   "outputs": [
    {
     "data": {
      "text/plain": [
       "Invoice         0.00\n",
       "StockCode       0.00\n",
       "Description     0.27\n",
       "Quantity        0.00\n",
       "InvoiceDate     0.00\n",
       "Price           0.00\n",
       "Customer ID    24.93\n",
       "Country         0.00\n",
       "dtype: float64"
      ]
     },
     "execution_count": 3,
     "metadata": {},
     "output_type": "execute_result"
    }
   ],
   "source": [
    "# Checking for % of null values\n",
    "round(100*(data.isnull().sum() / len(data)), 2)"
   ]
  },
  {
   "cell_type": "code",
   "execution_count": 4,
   "id": "9ae7eaed",
   "metadata": {},
   "outputs": [],
   "source": [
    "# Considering data where customer ID is not null\n",
    "data = data[~data['Customer ID'].isnull()]"
   ]
  },
  {
   "cell_type": "code",
   "execution_count": 5,
   "id": "e5eee4f1",
   "metadata": {},
   "outputs": [
    {
     "data": {
      "text/plain": [
       "Invoice        0\n",
       "StockCode      0\n",
       "Description    0\n",
       "Quantity       0\n",
       "InvoiceDate    0\n",
       "Price          0\n",
       "Customer ID    0\n",
       "Country        0\n",
       "dtype: int64"
      ]
     },
     "execution_count": 5,
     "metadata": {},
     "output_type": "execute_result"
    }
   ],
   "source": [
    "# Checking for null values again\n",
    "data.isnull().sum()"
   ]
  },
  {
   "cell_type": "code",
   "execution_count": 6,
   "id": "e97aed9c",
   "metadata": {},
   "outputs": [
    {
     "name": "stdout",
     "output_type": "stream",
     "text": [
      "Rows before dropping duplicates = 406830\n",
      "Rows after dropping duplicates = 401605\n",
      "Number of duplicate values = 5225\n"
     ]
    }
   ],
   "source": [
    "# Checkinng for duplicates\n",
    "rows_after_drop_dup = len(data.drop_duplicates())\n",
    "rows = len(data)\n",
    "print(f\"Rows before dropping duplicates = {rows}\\n\\\n",
    "Rows after dropping duplicates = {rows_after_drop_dup}\\n\\\n",
    "Number of duplicate values = {rows - rows_after_drop_dup}\")"
   ]
  },
  {
   "cell_type": "code",
   "execution_count": 7,
   "id": "03233507",
   "metadata": {},
   "outputs": [],
   "source": [
    "# Dropping Duplicates\n",
    "data.drop_duplicates(inplace=True)"
   ]
  },
  {
   "cell_type": "markdown",
   "id": "c8ff56c9",
   "metadata": {},
   "source": [
    "## RFM Analysis"
   ]
  },
  {
   "cell_type": "markdown",
   "id": "a792e1d7",
   "metadata": {},
   "source": [
    "### Calculating the Recency"
   ]
  },
  {
   "cell_type": "code",
   "execution_count": 8,
   "id": "4edf3c94",
   "metadata": {},
   "outputs": [],
   "source": [
    "# Calulating the Recency\n",
    "recency = data.groupby('Customer ID', as_index=False)['InvoiceDate'].max() #grouping by the Customer ID and getting the max invoice date\n",
    "recency.columns = ['Customer ID', 'Last Purchase Date'] # renaming the columns\n",
    "recent_date = recency['Last Purchase Date'].max() # getting the latest date of purchase\n",
    "recency['Recency'] = recency['Last Purchase Date'].apply(lambda x: (recent_date - x).days) # calculating the recency of purchase in number of days"
   ]
  },
  {
   "cell_type": "code",
   "execution_count": 9,
   "id": "6eafd525",
   "metadata": {},
   "outputs": [
    {
     "data": {
      "text/html": [
       "<div>\n",
       "<style scoped>\n",
       "    .dataframe tbody tr th:only-of-type {\n",
       "        vertical-align: middle;\n",
       "    }\n",
       "\n",
       "    .dataframe tbody tr th {\n",
       "        vertical-align: top;\n",
       "    }\n",
       "\n",
       "    .dataframe thead th {\n",
       "        text-align: right;\n",
       "    }\n",
       "</style>\n",
       "<table border=\"1\" class=\"dataframe\">\n",
       "  <thead>\n",
       "    <tr style=\"text-align: right;\">\n",
       "      <th></th>\n",
       "      <th>Customer ID</th>\n",
       "      <th>Last Purchase Date</th>\n",
       "      <th>Recency</th>\n",
       "    </tr>\n",
       "  </thead>\n",
       "  <tbody>\n",
       "    <tr>\n",
       "      <th>0</th>\n",
       "      <td>12346.0</td>\n",
       "      <td>2011-01-18 10:17:00</td>\n",
       "      <td>325</td>\n",
       "    </tr>\n",
       "    <tr>\n",
       "      <th>1</th>\n",
       "      <td>12347.0</td>\n",
       "      <td>2011-12-07 15:52:00</td>\n",
       "      <td>1</td>\n",
       "    </tr>\n",
       "    <tr>\n",
       "      <th>2</th>\n",
       "      <td>12348.0</td>\n",
       "      <td>2011-09-25 13:13:00</td>\n",
       "      <td>74</td>\n",
       "    </tr>\n",
       "    <tr>\n",
       "      <th>3</th>\n",
       "      <td>12349.0</td>\n",
       "      <td>2011-11-21 09:51:00</td>\n",
       "      <td>18</td>\n",
       "    </tr>\n",
       "    <tr>\n",
       "      <th>4</th>\n",
       "      <td>12350.0</td>\n",
       "      <td>2011-02-02 16:01:00</td>\n",
       "      <td>309</td>\n",
       "    </tr>\n",
       "  </tbody>\n",
       "</table>\n",
       "</div>"
      ],
      "text/plain": [
       "   Customer ID  Last Purchase Date  Recency\n",
       "0      12346.0 2011-01-18 10:17:00      325\n",
       "1      12347.0 2011-12-07 15:52:00        1\n",
       "2      12348.0 2011-09-25 13:13:00       74\n",
       "3      12349.0 2011-11-21 09:51:00       18\n",
       "4      12350.0 2011-02-02 16:01:00      309"
      ]
     },
     "execution_count": 9,
     "metadata": {},
     "output_type": "execute_result"
    }
   ],
   "source": [
    "recency.head()"
   ]
  },
  {
   "cell_type": "markdown",
   "id": "640b0599",
   "metadata": {},
   "source": [
    "### Calculating the Frequency"
   ]
  },
  {
   "cell_type": "code",
   "execution_count": 10,
   "id": "b950c243",
   "metadata": {},
   "outputs": [
    {
     "data": {
      "text/html": [
       "<div>\n",
       "<style scoped>\n",
       "    .dataframe tbody tr th:only-of-type {\n",
       "        vertical-align: middle;\n",
       "    }\n",
       "\n",
       "    .dataframe tbody tr th {\n",
       "        vertical-align: top;\n",
       "    }\n",
       "\n",
       "    .dataframe thead th {\n",
       "        text-align: right;\n",
       "    }\n",
       "</style>\n",
       "<table border=\"1\" class=\"dataframe\">\n",
       "  <thead>\n",
       "    <tr style=\"text-align: right;\">\n",
       "      <th></th>\n",
       "      <th>Customer ID</th>\n",
       "      <th>Frequency</th>\n",
       "    </tr>\n",
       "  </thead>\n",
       "  <tbody>\n",
       "    <tr>\n",
       "      <th>0</th>\n",
       "      <td>12346.0</td>\n",
       "      <td>2</td>\n",
       "    </tr>\n",
       "    <tr>\n",
       "      <th>1</th>\n",
       "      <td>12347.0</td>\n",
       "      <td>182</td>\n",
       "    </tr>\n",
       "    <tr>\n",
       "      <th>2</th>\n",
       "      <td>12348.0</td>\n",
       "      <td>31</td>\n",
       "    </tr>\n",
       "    <tr>\n",
       "      <th>3</th>\n",
       "      <td>12349.0</td>\n",
       "      <td>73</td>\n",
       "    </tr>\n",
       "    <tr>\n",
       "      <th>4</th>\n",
       "      <td>12350.0</td>\n",
       "      <td>17</td>\n",
       "    </tr>\n",
       "  </tbody>\n",
       "</table>\n",
       "</div>"
      ],
      "text/plain": [
       "   Customer ID  Frequency\n",
       "0      12346.0          2\n",
       "1      12347.0        182\n",
       "2      12348.0         31\n",
       "3      12349.0         73\n",
       "4      12350.0         17"
      ]
     },
     "execution_count": 10,
     "metadata": {},
     "output_type": "execute_result"
    }
   ],
   "source": [
    "frequency = data.groupby('Customer ID', as_index=False)['InvoiceDate'].count() # calculating the frequency of customers purchases\n",
    "frequency.columns = ['Customer ID', 'Frequency']\n",
    "frequency.head()"
   ]
  },
  {
   "cell_type": "markdown",
   "id": "ba7f315d",
   "metadata": {},
   "source": [
    "### Calculating the Monetary Value"
   ]
  },
  {
   "cell_type": "code",
   "execution_count": 11,
   "id": "234213ef",
   "metadata": {},
   "outputs": [],
   "source": [
    "data['Total'] = data['Quantity'] * data['Price'] # Calculating the total price = quantity * price\n",
    "monetary = data.groupby('Customer ID', as_index = False)['Total'].sum() # Agg data by sum of total price with respect to customer ID \n",
    "monetary.columns = ['Customer ID', 'Monetary'] # renaming columns"
   ]
  },
  {
   "cell_type": "code",
   "execution_count": 12,
   "id": "9495581f",
   "metadata": {},
   "outputs": [
    {
     "data": {
      "text/html": [
       "<div>\n",
       "<style scoped>\n",
       "    .dataframe tbody tr th:only-of-type {\n",
       "        vertical-align: middle;\n",
       "    }\n",
       "\n",
       "    .dataframe tbody tr th {\n",
       "        vertical-align: top;\n",
       "    }\n",
       "\n",
       "    .dataframe thead th {\n",
       "        text-align: right;\n",
       "    }\n",
       "</style>\n",
       "<table border=\"1\" class=\"dataframe\">\n",
       "  <thead>\n",
       "    <tr style=\"text-align: right;\">\n",
       "      <th></th>\n",
       "      <th>Customer ID</th>\n",
       "      <th>Monetary</th>\n",
       "    </tr>\n",
       "  </thead>\n",
       "  <tbody>\n",
       "    <tr>\n",
       "      <th>0</th>\n",
       "      <td>12346.0</td>\n",
       "      <td>0.00</td>\n",
       "    </tr>\n",
       "    <tr>\n",
       "      <th>1</th>\n",
       "      <td>12347.0</td>\n",
       "      <td>4310.00</td>\n",
       "    </tr>\n",
       "    <tr>\n",
       "      <th>2</th>\n",
       "      <td>12348.0</td>\n",
       "      <td>1797.24</td>\n",
       "    </tr>\n",
       "    <tr>\n",
       "      <th>3</th>\n",
       "      <td>12349.0</td>\n",
       "      <td>1757.55</td>\n",
       "    </tr>\n",
       "    <tr>\n",
       "      <th>4</th>\n",
       "      <td>12350.0</td>\n",
       "      <td>334.40</td>\n",
       "    </tr>\n",
       "  </tbody>\n",
       "</table>\n",
       "</div>"
      ],
      "text/plain": [
       "   Customer ID  Monetary\n",
       "0      12346.0      0.00\n",
       "1      12347.0   4310.00\n",
       "2      12348.0   1797.24\n",
       "3      12349.0   1757.55\n",
       "4      12350.0    334.40"
      ]
     },
     "execution_count": 12,
     "metadata": {},
     "output_type": "execute_result"
    }
   ],
   "source": [
    "monetary.head()"
   ]
  },
  {
   "cell_type": "markdown",
   "id": "85fc7d97",
   "metadata": {},
   "source": [
    "### Caculating the RFM Rank and Score"
   ]
  },
  {
   "cell_type": "code",
   "execution_count": 13,
   "id": "38525504",
   "metadata": {},
   "outputs": [
    {
     "data": {
      "text/html": [
       "<div>\n",
       "<style scoped>\n",
       "    .dataframe tbody tr th:only-of-type {\n",
       "        vertical-align: middle;\n",
       "    }\n",
       "\n",
       "    .dataframe tbody tr th {\n",
       "        vertical-align: top;\n",
       "    }\n",
       "\n",
       "    .dataframe thead th {\n",
       "        text-align: right;\n",
       "    }\n",
       "</style>\n",
       "<table border=\"1\" class=\"dataframe\">\n",
       "  <thead>\n",
       "    <tr style=\"text-align: right;\">\n",
       "      <th></th>\n",
       "      <th>Customer ID</th>\n",
       "      <th>Last Purchase Date</th>\n",
       "      <th>Recency</th>\n",
       "      <th>Frequency</th>\n",
       "      <th>Monetary</th>\n",
       "    </tr>\n",
       "  </thead>\n",
       "  <tbody>\n",
       "    <tr>\n",
       "      <th>0</th>\n",
       "      <td>12346.0</td>\n",
       "      <td>2011-01-18 10:17:00</td>\n",
       "      <td>325</td>\n",
       "      <td>2</td>\n",
       "      <td>0.00</td>\n",
       "    </tr>\n",
       "    <tr>\n",
       "      <th>1</th>\n",
       "      <td>12347.0</td>\n",
       "      <td>2011-12-07 15:52:00</td>\n",
       "      <td>1</td>\n",
       "      <td>182</td>\n",
       "      <td>4310.00</td>\n",
       "    </tr>\n",
       "    <tr>\n",
       "      <th>2</th>\n",
       "      <td>12348.0</td>\n",
       "      <td>2011-09-25 13:13:00</td>\n",
       "      <td>74</td>\n",
       "      <td>31</td>\n",
       "      <td>1797.24</td>\n",
       "    </tr>\n",
       "    <tr>\n",
       "      <th>3</th>\n",
       "      <td>12349.0</td>\n",
       "      <td>2011-11-21 09:51:00</td>\n",
       "      <td>18</td>\n",
       "      <td>73</td>\n",
       "      <td>1757.55</td>\n",
       "    </tr>\n",
       "    <tr>\n",
       "      <th>4</th>\n",
       "      <td>12350.0</td>\n",
       "      <td>2011-02-02 16:01:00</td>\n",
       "      <td>309</td>\n",
       "      <td>17</td>\n",
       "      <td>334.40</td>\n",
       "    </tr>\n",
       "  </tbody>\n",
       "</table>\n",
       "</div>"
      ],
      "text/plain": [
       "   Customer ID  Last Purchase Date  Recency  Frequency  Monetary\n",
       "0      12346.0 2011-01-18 10:17:00      325          2      0.00\n",
       "1      12347.0 2011-12-07 15:52:00        1        182   4310.00\n",
       "2      12348.0 2011-09-25 13:13:00       74         31   1797.24\n",
       "3      12349.0 2011-11-21 09:51:00       18         73   1757.55\n",
       "4      12350.0 2011-02-02 16:01:00      309         17    334.40"
      ]
     },
     "execution_count": 13,
     "metadata": {},
     "output_type": "execute_result"
    }
   ],
   "source": [
    "rf = recency.merge(frequency, on='Customer ID') # grouping recency and frequency data frames\n",
    "rfm = rf.merge(monetary, on='Customer ID') #grouping recency, frequency and monetary data frames\n",
    "rfm.head()"
   ]
  },
  {
   "cell_type": "code",
   "execution_count": 14,
   "id": "3894561d",
   "metadata": {},
   "outputs": [
    {
     "data": {
      "text/html": [
       "<div>\n",
       "<style scoped>\n",
       "    .dataframe tbody tr th:only-of-type {\n",
       "        vertical-align: middle;\n",
       "    }\n",
       "\n",
       "    .dataframe tbody tr th {\n",
       "        vertical-align: top;\n",
       "    }\n",
       "\n",
       "    .dataframe thead th {\n",
       "        text-align: right;\n",
       "    }\n",
       "</style>\n",
       "<table border=\"1\" class=\"dataframe\">\n",
       "  <thead>\n",
       "    <tr style=\"text-align: right;\">\n",
       "      <th></th>\n",
       "      <th>Customer ID</th>\n",
       "      <th>Last Purchase Date</th>\n",
       "      <th>Recency</th>\n",
       "      <th>Frequency</th>\n",
       "      <th>Monetary</th>\n",
       "      <th>R_rank_norm</th>\n",
       "      <th>F_rank_norm</th>\n",
       "      <th>M_rank_norm</th>\n",
       "    </tr>\n",
       "  </thead>\n",
       "  <tbody>\n",
       "    <tr>\n",
       "      <th>0</th>\n",
       "      <td>12346.0</td>\n",
       "      <td>2011-01-18 10:17:00</td>\n",
       "      <td>325</td>\n",
       "      <td>2</td>\n",
       "      <td>0.00</td>\n",
       "      <td>3.865741</td>\n",
       "      <td>98.407570</td>\n",
       "      <td>98.959286</td>\n",
       "    </tr>\n",
       "    <tr>\n",
       "      <th>1</th>\n",
       "      <td>12347.0</td>\n",
       "      <td>2011-12-07 15:52:00</td>\n",
       "      <td>1</td>\n",
       "      <td>182</td>\n",
       "      <td>4310.00</td>\n",
       "      <td>97.719907</td>\n",
       "      <td>12.000923</td>\n",
       "      <td>7.296432</td>\n",
       "    </tr>\n",
       "    <tr>\n",
       "      <th>2</th>\n",
       "      <td>12348.0</td>\n",
       "      <td>2011-09-25 13:13:00</td>\n",
       "      <td>74</td>\n",
       "      <td>31</td>\n",
       "      <td>1797.24</td>\n",
       "      <td>38.182870</td>\n",
       "      <td>58.469882</td>\n",
       "      <td>22.301006</td>\n",
       "    </tr>\n",
       "    <tr>\n",
       "      <th>3</th>\n",
       "      <td>12349.0</td>\n",
       "      <td>2011-11-21 09:51:00</td>\n",
       "      <td>18</td>\n",
       "      <td>73</td>\n",
       "      <td>1757.55</td>\n",
       "      <td>72.974537</td>\n",
       "      <td>33.602585</td>\n",
       "      <td>22.895700</td>\n",
       "    </tr>\n",
       "    <tr>\n",
       "      <th>4</th>\n",
       "      <td>12350.0</td>\n",
       "      <td>2011-02-02 16:01:00</td>\n",
       "      <td>309</td>\n",
       "      <td>17</td>\n",
       "      <td>334.40</td>\n",
       "      <td>5.578704</td>\n",
       "      <td>75.905839</td>\n",
       "      <td>70.082342</td>\n",
       "    </tr>\n",
       "  </tbody>\n",
       "</table>\n",
       "</div>"
      ],
      "text/plain": [
       "   Customer ID  Last Purchase Date  Recency  Frequency  Monetary  R_rank_norm  \\\n",
       "0      12346.0 2011-01-18 10:17:00      325          2      0.00     3.865741   \n",
       "1      12347.0 2011-12-07 15:52:00        1        182   4310.00    97.719907   \n",
       "2      12348.0 2011-09-25 13:13:00       74         31   1797.24    38.182870   \n",
       "3      12349.0 2011-11-21 09:51:00       18         73   1757.55    72.974537   \n",
       "4      12350.0 2011-02-02 16:01:00      309         17    334.40     5.578704   \n",
       "\n",
       "   F_rank_norm  M_rank_norm  \n",
       "0    98.407570    98.959286  \n",
       "1    12.000923     7.296432  \n",
       "2    58.469882    22.301006  \n",
       "3    33.602585    22.895700  \n",
       "4    75.905839    70.082342  "
      ]
     },
     "execution_count": 14,
     "metadata": {},
     "output_type": "execute_result"
    }
   ],
   "source": [
    "rfm['R Rank'] = rfm.Recency.rank(ascending=False) # calculating the rank of Recency\n",
    "rfm['F Rank'] = rfm.Frequency.rank(ascending=False) # calculating the rank of Frequency\n",
    "rfm['M Rank'] = rfm.Monetary.rank(ascending=False) # calculating the rank of Monetary\n",
    "\n",
    "rfm['R_rank_norm'] = (rfm['R Rank'] / rfm['R Rank'].max())*100 # calculating the normalized rank of Recency\n",
    "rfm['F_rank_norm'] = (rfm['F Rank'] / rfm['F Rank'].max())*100 # calculating the normalized rank of Frequency\n",
    "rfm['M_rank_norm'] = (rfm['M Rank'] / rfm['M Rank'].max())*100 # calculating the normalized rank of Monetary\n",
    "\n",
    "rfm.drop(['R Rank', 'F Rank', 'M Rank'], axis=1, inplace=True) # dropping rank columns\n",
    "\n",
    "rfm.head()"
   ]
  },
  {
   "cell_type": "code",
   "execution_count": 15,
   "id": "19a58807",
   "metadata": {},
   "outputs": [
    {
     "data": {
      "text/html": [
       "<div>\n",
       "<style scoped>\n",
       "    .dataframe tbody tr th:only-of-type {\n",
       "        vertical-align: middle;\n",
       "    }\n",
       "\n",
       "    .dataframe tbody tr th {\n",
       "        vertical-align: top;\n",
       "    }\n",
       "\n",
       "    .dataframe thead th {\n",
       "        text-align: right;\n",
       "    }\n",
       "</style>\n",
       "<table border=\"1\" class=\"dataframe\">\n",
       "  <thead>\n",
       "    <tr style=\"text-align: right;\">\n",
       "      <th></th>\n",
       "      <th>Customer ID</th>\n",
       "      <th>Last Purchase Date</th>\n",
       "      <th>Recency</th>\n",
       "      <th>Frequency</th>\n",
       "      <th>Monetary</th>\n",
       "      <th>R_rank_norm</th>\n",
       "      <th>F_rank_norm</th>\n",
       "      <th>M_rank_norm</th>\n",
       "      <th>RFM_Score</th>\n",
       "    </tr>\n",
       "  </thead>\n",
       "  <tbody>\n",
       "    <tr>\n",
       "      <th>0</th>\n",
       "      <td>12346.0</td>\n",
       "      <td>2011-01-18 10:17:00</td>\n",
       "      <td>325</td>\n",
       "      <td>2</td>\n",
       "      <td>0.00</td>\n",
       "      <td>3.87</td>\n",
       "      <td>98.41</td>\n",
       "      <td>98.96</td>\n",
       "      <td>4.23</td>\n",
       "    </tr>\n",
       "    <tr>\n",
       "      <th>1</th>\n",
       "      <td>12347.0</td>\n",
       "      <td>2011-12-07 15:52:00</td>\n",
       "      <td>1</td>\n",
       "      <td>182</td>\n",
       "      <td>4310.00</td>\n",
       "      <td>97.72</td>\n",
       "      <td>12.00</td>\n",
       "      <td>7.30</td>\n",
       "      <td>1.11</td>\n",
       "    </tr>\n",
       "    <tr>\n",
       "      <th>2</th>\n",
       "      <td>12348.0</td>\n",
       "      <td>2011-09-25 13:13:00</td>\n",
       "      <td>74</td>\n",
       "      <td>31</td>\n",
       "      <td>1797.24</td>\n",
       "      <td>38.18</td>\n",
       "      <td>58.47</td>\n",
       "      <td>22.30</td>\n",
       "      <td>1.74</td>\n",
       "    </tr>\n",
       "    <tr>\n",
       "      <th>3</th>\n",
       "      <td>12349.0</td>\n",
       "      <td>2011-11-21 09:51:00</td>\n",
       "      <td>18</td>\n",
       "      <td>73</td>\n",
       "      <td>1757.55</td>\n",
       "      <td>72.97</td>\n",
       "      <td>33.60</td>\n",
       "      <td>22.90</td>\n",
       "      <td>1.67</td>\n",
       "    </tr>\n",
       "    <tr>\n",
       "      <th>4</th>\n",
       "      <td>12350.0</td>\n",
       "      <td>2011-02-02 16:01:00</td>\n",
       "      <td>309</td>\n",
       "      <td>17</td>\n",
       "      <td>334.40</td>\n",
       "      <td>5.58</td>\n",
       "      <td>75.91</td>\n",
       "      <td>70.08</td>\n",
       "      <td>3.10</td>\n",
       "    </tr>\n",
       "    <tr>\n",
       "      <th>5</th>\n",
       "      <td>12352.0</td>\n",
       "      <td>2011-11-03 14:37:00</td>\n",
       "      <td>35</td>\n",
       "      <td>95</td>\n",
       "      <td>1545.41</td>\n",
       "      <td>57.85</td>\n",
       "      <td>26.75</td>\n",
       "      <td>25.77</td>\n",
       "      <td>1.54</td>\n",
       "    </tr>\n",
       "    <tr>\n",
       "      <th>6</th>\n",
       "      <td>12353.0</td>\n",
       "      <td>2011-05-19 17:47:00</td>\n",
       "      <td>203</td>\n",
       "      <td>4</td>\n",
       "      <td>89.00</td>\n",
       "      <td>17.01</td>\n",
       "      <td>95.87</td>\n",
       "      <td>96.04</td>\n",
       "      <td>4.21</td>\n",
       "    </tr>\n",
       "    <tr>\n",
       "      <th>7</th>\n",
       "      <td>12354.0</td>\n",
       "      <td>2011-04-21 13:11:00</td>\n",
       "      <td>231</td>\n",
       "      <td>58</td>\n",
       "      <td>1079.40</td>\n",
       "      <td>14.16</td>\n",
       "      <td>40.21</td>\n",
       "      <td>34.84</td>\n",
       "      <td>1.66</td>\n",
       "    </tr>\n",
       "    <tr>\n",
       "      <th>8</th>\n",
       "      <td>12355.0</td>\n",
       "      <td>2011-05-09 13:49:00</td>\n",
       "      <td>213</td>\n",
       "      <td>13</td>\n",
       "      <td>459.40</td>\n",
       "      <td>15.80</td>\n",
       "      <td>81.62</td>\n",
       "      <td>60.27</td>\n",
       "      <td>2.98</td>\n",
       "    </tr>\n",
       "    <tr>\n",
       "      <th>9</th>\n",
       "      <td>12356.0</td>\n",
       "      <td>2011-11-17 08:40:00</td>\n",
       "      <td>22</td>\n",
       "      <td>59</td>\n",
       "      <td>2811.43</td>\n",
       "      <td>68.84</td>\n",
       "      <td>39.74</td>\n",
       "      <td>13.17</td>\n",
       "      <td>1.45</td>\n",
       "    </tr>\n",
       "  </tbody>\n",
       "</table>\n",
       "</div>"
      ],
      "text/plain": [
       "   Customer ID  Last Purchase Date  Recency  Frequency  Monetary  R_rank_norm  \\\n",
       "0      12346.0 2011-01-18 10:17:00      325          2      0.00         3.87   \n",
       "1      12347.0 2011-12-07 15:52:00        1        182   4310.00        97.72   \n",
       "2      12348.0 2011-09-25 13:13:00       74         31   1797.24        38.18   \n",
       "3      12349.0 2011-11-21 09:51:00       18         73   1757.55        72.97   \n",
       "4      12350.0 2011-02-02 16:01:00      309         17    334.40         5.58   \n",
       "5      12352.0 2011-11-03 14:37:00       35         95   1545.41        57.85   \n",
       "6      12353.0 2011-05-19 17:47:00      203          4     89.00        17.01   \n",
       "7      12354.0 2011-04-21 13:11:00      231         58   1079.40        14.16   \n",
       "8      12355.0 2011-05-09 13:49:00      213         13    459.40        15.80   \n",
       "9      12356.0 2011-11-17 08:40:00       22         59   2811.43        68.84   \n",
       "\n",
       "   F_rank_norm  M_rank_norm  RFM_Score  \n",
       "0        98.41        98.96       4.23  \n",
       "1        12.00         7.30       1.11  \n",
       "2        58.47        22.30       1.74  \n",
       "3        33.60        22.90       1.67  \n",
       "4        75.91        70.08       3.10  \n",
       "5        26.75        25.77       1.54  \n",
       "6        95.87        96.04       4.21  \n",
       "7        40.21        34.84       1.66  \n",
       "8        81.62        60.27       2.98  \n",
       "9        39.74        13.17       1.45  "
      ]
     },
     "execution_count": 15,
     "metadata": {},
     "output_type": "execute_result"
    }
   ],
   "source": [
    "# Calculating RFM Score using Formula\n",
    "\n",
    "rfm['RFM_Score'] = 0.15*rfm['R_rank_norm'] + 0.28*\\\n",
    "rfm['F_rank_norm'] + 0.57*rfm['M_rank_norm']\n",
    "rfm['RFM_Score'] *= 0.05\n",
    "rfm = rfm.round(2)\n",
    "rfm.head(10)"
   ]
  },
  {
   "cell_type": "code",
   "execution_count": 16,
   "id": "e9b343ce",
   "metadata": {},
   "outputs": [
    {
     "data": {
      "text/html": [
       "<div>\n",
       "<style scoped>\n",
       "    .dataframe tbody tr th:only-of-type {\n",
       "        vertical-align: middle;\n",
       "    }\n",
       "\n",
       "    .dataframe tbody tr th {\n",
       "        vertical-align: top;\n",
       "    }\n",
       "\n",
       "    .dataframe thead th {\n",
       "        text-align: right;\n",
       "    }\n",
       "</style>\n",
       "<table border=\"1\" class=\"dataframe\">\n",
       "  <thead>\n",
       "    <tr style=\"text-align: right;\">\n",
       "      <th></th>\n",
       "      <th>Customer ID</th>\n",
       "      <th>RFM_Score</th>\n",
       "      <th>Customer_Segment</th>\n",
       "    </tr>\n",
       "  </thead>\n",
       "  <tbody>\n",
       "    <tr>\n",
       "      <th>0</th>\n",
       "      <td>12346.0</td>\n",
       "      <td>4.23</td>\n",
       "      <td>High Value Customers</td>\n",
       "    </tr>\n",
       "    <tr>\n",
       "      <th>1</th>\n",
       "      <td>12347.0</td>\n",
       "      <td>1.11</td>\n",
       "      <td>Lost Customers</td>\n",
       "    </tr>\n",
       "    <tr>\n",
       "      <th>2</th>\n",
       "      <td>12348.0</td>\n",
       "      <td>1.74</td>\n",
       "      <td>Low Value Customers</td>\n",
       "    </tr>\n",
       "    <tr>\n",
       "      <th>3</th>\n",
       "      <td>12349.0</td>\n",
       "      <td>1.67</td>\n",
       "      <td>Low Value Customers</td>\n",
       "    </tr>\n",
       "    <tr>\n",
       "      <th>4</th>\n",
       "      <td>12350.0</td>\n",
       "      <td>3.10</td>\n",
       "      <td>Medium Value Customers</td>\n",
       "    </tr>\n",
       "    <tr>\n",
       "      <th>5</th>\n",
       "      <td>12352.0</td>\n",
       "      <td>1.54</td>\n",
       "      <td>Lost Customers</td>\n",
       "    </tr>\n",
       "    <tr>\n",
       "      <th>6</th>\n",
       "      <td>12353.0</td>\n",
       "      <td>4.21</td>\n",
       "      <td>High Value Customers</td>\n",
       "    </tr>\n",
       "    <tr>\n",
       "      <th>7</th>\n",
       "      <td>12354.0</td>\n",
       "      <td>1.66</td>\n",
       "      <td>Low Value Customers</td>\n",
       "    </tr>\n",
       "    <tr>\n",
       "      <th>8</th>\n",
       "      <td>12355.0</td>\n",
       "      <td>2.98</td>\n",
       "      <td>Low Value Customers</td>\n",
       "    </tr>\n",
       "    <tr>\n",
       "      <th>9</th>\n",
       "      <td>12356.0</td>\n",
       "      <td>1.45</td>\n",
       "      <td>Lost Customers</td>\n",
       "    </tr>\n",
       "    <tr>\n",
       "      <th>10</th>\n",
       "      <td>12357.0</td>\n",
       "      <td>0.83</td>\n",
       "      <td>Lost Customers</td>\n",
       "    </tr>\n",
       "    <tr>\n",
       "      <th>11</th>\n",
       "      <td>12358.0</td>\n",
       "      <td>2.69</td>\n",
       "      <td>Low Value Customers</td>\n",
       "    </tr>\n",
       "    <tr>\n",
       "      <th>12</th>\n",
       "      <td>12359.0</td>\n",
       "      <td>0.89</td>\n",
       "      <td>Lost Customers</td>\n",
       "    </tr>\n",
       "    <tr>\n",
       "      <th>13</th>\n",
       "      <td>12360.0</td>\n",
       "      <td>1.04</td>\n",
       "      <td>Lost Customers</td>\n",
       "    </tr>\n",
       "    <tr>\n",
       "      <th>14</th>\n",
       "      <td>12361.0</td>\n",
       "      <td>3.68</td>\n",
       "      <td>Medium Value Customers</td>\n",
       "    </tr>\n",
       "    <tr>\n",
       "      <th>15</th>\n",
       "      <td>12362.0</td>\n",
       "      <td>0.97</td>\n",
       "      <td>Lost Customers</td>\n",
       "    </tr>\n",
       "    <tr>\n",
       "      <th>16</th>\n",
       "      <td>12363.0</td>\n",
       "      <td>2.75</td>\n",
       "      <td>Low Value Customers</td>\n",
       "    </tr>\n",
       "    <tr>\n",
       "      <th>17</th>\n",
       "      <td>12364.0</td>\n",
       "      <td>1.92</td>\n",
       "      <td>Low Value Customers</td>\n",
       "    </tr>\n",
       "    <tr>\n",
       "      <th>18</th>\n",
       "      <td>12365.0</td>\n",
       "      <td>3.04</td>\n",
       "      <td>Medium Value Customers</td>\n",
       "    </tr>\n",
       "    <tr>\n",
       "      <th>19</th>\n",
       "      <td>12367.0</td>\n",
       "      <td>4.36</td>\n",
       "      <td>High Value Customers</td>\n",
       "    </tr>\n",
       "  </tbody>\n",
       "</table>\n",
       "</div>"
      ],
      "text/plain": [
       "    Customer ID  RFM_Score        Customer_Segment\n",
       "0       12346.0       4.23    High Value Customers\n",
       "1       12347.0       1.11          Lost Customers\n",
       "2       12348.0       1.74     Low Value Customers\n",
       "3       12349.0       1.67     Low Value Customers\n",
       "4       12350.0       3.10  Medium Value Customers\n",
       "5       12352.0       1.54          Lost Customers\n",
       "6       12353.0       4.21    High Value Customers\n",
       "7       12354.0       1.66     Low Value Customers\n",
       "8       12355.0       2.98     Low Value Customers\n",
       "9       12356.0       1.45          Lost Customers\n",
       "10      12357.0       0.83          Lost Customers\n",
       "11      12358.0       2.69     Low Value Customers\n",
       "12      12359.0       0.89          Lost Customers\n",
       "13      12360.0       1.04          Lost Customers\n",
       "14      12361.0       3.68  Medium Value Customers\n",
       "15      12362.0       0.97          Lost Customers\n",
       "16      12363.0       2.75     Low Value Customers\n",
       "17      12364.0       1.92     Low Value Customers\n",
       "18      12365.0       3.04  Medium Value Customers\n",
       "19      12367.0       4.36    High Value Customers"
      ]
     },
     "execution_count": 16,
     "metadata": {},
     "output_type": "execute_result"
    }
   ],
   "source": [
    "# Segmentating customers based on their scores \n",
    "rfm['Customer_Segment'] = np.where(rfm['RFM_Score'] > 4.5, 'Top Customers',\\\n",
    "                                  np.where(rfm['RFM_Score'] > 4, 'High Value Customers',\\\n",
    "                                          np.where(rfm['RFM_Score'] > 3, 'Medium Value Customers',\\\n",
    "                                                  np.where(rfm['RFM_Score'] > 1.6, 'Low Value Customers', 'Lost Customers'))))\n",
    "rfm[['Customer ID', 'RFM_Score', 'Customer_Segment']].head(20)"
   ]
  },
  {
   "cell_type": "code",
   "execution_count": 17,
   "id": "35657e65",
   "metadata": {},
   "outputs": [
    {
     "data": {
      "image/png": "[encoded data removed]",
      "text/plain": [
       "<Figure size 720x504 with 1 Axes>"
      ]
     },
     "metadata": {},
     "output_type": "display_data"
    }
   ],
   "source": [
    "plt.figure(figsize=(10,7))\n",
    "plt.pie(rfm['Customer_Segment'].value_counts(), labels = rfm['Customer_Segment'].value_counts().index,\\\n",
    "        autopct = '%0.f%%')\n",
    "plt.title('Customer Segment Analysis')\n",
    "plt.show()"
   ]
  },
  {
   "cell_type": "markdown",
   "id": "adee31e8",
   "metadata": {},
   "source": [
    "## Making Clusters from Data"
   ]
  },
  {
   "cell_type": "markdown",
   "id": "7b8ae0c3",
   "metadata": {},
   "source": [
    "### Preparing the data"
   ]
  },
  {
   "cell_type": "code",
   "execution_count": 22,
   "id": "e19100dd",
   "metadata": {},
   "outputs": [
    {
     "name": "stderr",
     "output_type": "stream",
     "text": [
      "C:\\Users\\Shubham\\AppData\\Local\\Temp\\ipykernel_23396\\1663788104.py:2: FutureWarning: In a future version of pandas all arguments of concat except for the argument 'objs' will be keyword-only.\n",
      "  combined_data = pd.concat([data, dummy_df], 1)\n",
      "C:\\Users\\Shubham\\AppData\\Local\\Temp\\ipykernel_23396\\1663788104.py:3: FutureWarning: In a future version of pandas all arguments of DataFrame.drop except for the argument 'labels' will be keyword-only.\n",
      "  combined_data.drop('Country', 1, inplace=True)\n"
     ]
    }
   ],
   "source": [
    "dummy_df = pd.get_dummies(data['Country'], drop_first=True)\n",
    "combined_data = pd.concat([data, dummy_df], 1)\n",
    "combined_data.drop('Country', 1, inplace=True)"
   ]
  },
  {
   "cell_type": "code",
   "execution_count": 28,
   "id": "ea312d51",
   "metadata": {},
   "outputs": [],
   "source": [
    "grouped_data = combined_data.groupby('Customer ID', as_index=False).sum()\n",
    "merged_data = rfm.merge(grouped_data, on='Customer ID')"
   ]
  },
  {
   "cell_type": "code",
   "execution_count": 33,
   "id": "d9adf9c9",
   "metadata": {},
   "outputs": [],
   "source": [
    "filtered_data = merged_data[['Recency', 'Frequency', 'Monetary',\\\n",
    "       'R_rank_norm', 'F_rank_norm', 'M_rank_norm', 'RFM_Score',\\\n",
    "                            'Quantity', 'Price', 'Total', 'Austria', 'Bahrain',\\\n",
    "       'Belgium', 'Brazil', 'Canada', 'Channel Islands', 'Cyprus',\\\n",
    "       'Czech Republic', 'Denmark', 'EIRE', 'European Community', 'Finland',\\\n",
    "       'France', 'Germany', 'Greece', 'Iceland', 'Israel', 'Italy', 'Japan',\\\n",
    "       'Lebanon', 'Lithuania', 'Malta', 'Netherlands', 'Norway', 'Poland',\\\n",
    "       'Portugal', 'RSA', 'Saudi Arabia', 'Singapore', 'Spain', 'Sweden',\\\n",
    "       'Switzerland', 'USA', 'United Arab Emirates', 'United Kingdom',\\\n",
    "       'Unspecified']]"
   ]
  },
  {
   "cell_type": "code",
   "execution_count": 34,
   "id": "992b2fd6",
   "metadata": {},
   "outputs": [],
   "source": [
    "scalar = StandardScaler()\n",
    "\n",
    "scaled_data = scalar.fit_transform(filtered_data)"
   ]
  },
  {
   "cell_type": "code",
   "execution_count": 37,
   "id": "847a027a",
   "metadata": {},
   "outputs": [
    {
     "data": {
      "text/plain": [
       "array([[ 2.32202285, -0.39205703, -0.23042003, ..., -0.02124653,\n",
       "        -0.38308827, -0.02470078],\n",
       "       [-0.89373323,  0.3932925 ,  0.29405406, ..., -0.02124653,\n",
       "        -0.39271436, -0.02470078],\n",
       "       [-0.1691956 , -0.2655285 , -0.01171799, ..., -0.02124653,\n",
       "        -0.39271436, -0.02470078],\n",
       "       ...,\n",
       "       [-0.83418219, -0.34406345, -0.20892998, ..., -0.02124653,\n",
       "        -0.3301448 , -0.02470078],\n",
       "       [-0.87388289,  2.74497804,  0.01849586, ..., -0.02124653,\n",
       "         3.07748959, -0.02470078],\n",
       "       [-0.48680114, -0.09536943, -0.00684561, ..., -0.02124653,\n",
       "        -0.05580135, -0.02470078]])"
      ]
     },
     "execution_count": 37,
     "metadata": {},
     "output_type": "execute_result"
    }
   ],
   "source": [
    "scaled_data"
   ]
  },
  {
   "cell_type": "code",
   "execution_count": 39,
   "id": "0242987a",
   "metadata": {},
   "outputs": [
    {
     "data": {
      "image/png": "[encoded data removed]",
      "text/plain": [
       "<Figure size 432x288 with 1 Axes>"
      ]
     },
     "metadata": {
      "needs_background": "light"
     },
     "output_type": "display_data"
    }
   ],
   "source": [
    "# Plotting the elbow curve\n",
    "k_vals = range(1,10)\n",
    "ssd = []\n",
    "\n",
    "for i in k_vals:\n",
    "    kmeans = KMeans(n_clusters=i)\n",
    "    kmeans.fit(scaled_data)\n",
    "    ssd.append(kmeans.inertia_)\n",
    "    \n",
    "plt.plot(k_vals, ssd, 'bx-')\n",
    "plt.title('Elbow Curve')\n",
    "plt.xlabel('Values of K')\n",
    "plt.ylabel('SSD')\n",
    "plt.show()"
   ]
  },
  {
   "cell_type": "code",
   "execution_count": 41,
   "id": "0758fac0",
   "metadata": {},
   "outputs": [
    {
     "data": {
      "image/png": "[encoded data removed]",
      "text/plain": [
       "<Figure size 432x288 with 1 Axes>"
      ]
     },
     "metadata": {
      "needs_background": "light"
     },
     "output_type": "display_data"
    }
   ],
   "source": [
    "# Calculating the silhouette score\n",
    "sil_score = []\n",
    "k_val = [2, 3, 4, 5, 6, 7, 8]\n",
    "for i in k_val:\n",
    "    kmeans = KMeans(n_clusters=i)\n",
    "    kmeans.fit(scaled_data)\n",
    "    cluster_labels = kmeans.labels_\n",
    "    sil_score.append(silhouette_score(scaled_data, cluster_labels))\n",
    "plt.plot(k_val, sil_score, 'bx-')\n",
    "plt.title('Silhouette Curve')\n",
    "plt.xlabel('Values of K')\n",
    "plt.ylabel('Silhouette Score')\n",
    "plt.show()"
   ]
  },
  {
   "cell_type": "markdown",
   "id": "7793fc19",
   "metadata": {},
   "source": [
    "- Choosing the number of clusters as 5 based on Silhouette score and elbow curve"
   ]
  },
  {
   "cell_type": "code",
   "execution_count": 75,
   "id": "65f84f5d",
   "metadata": {},
   "outputs": [],
   "source": [
    "kmeans = KMeans(n_clusters=4, random_state=42)\n",
    "clusters = kmeans.fit_predict(scaled_data)"
   ]
  },
  {
   "cell_type": "code",
   "execution_count": 76,
   "id": "ec0f2cb8",
   "metadata": {},
   "outputs": [],
   "source": [
    "test = rfm.copy()\n",
    "test['Cluster'] = clusters"
   ]
  },
  {
   "cell_type": "code",
   "execution_count": 77,
   "id": "fdf54298",
   "metadata": {},
   "outputs": [
    {
     "data": {
      "text/html": [
       "<div>\n",
       "<style scoped>\n",
       "    .dataframe tbody tr th:only-of-type {\n",
       "        vertical-align: middle;\n",
       "    }\n",
       "\n",
       "    .dataframe tbody tr th {\n",
       "        vertical-align: top;\n",
       "    }\n",
       "\n",
       "    .dataframe thead th {\n",
       "        text-align: right;\n",
       "    }\n",
       "</style>\n",
       "<table border=\"1\" class=\"dataframe\">\n",
       "  <thead>\n",
       "    <tr style=\"text-align: right;\">\n",
       "      <th></th>\n",
       "      <th>Customer ID</th>\n",
       "      <th>Last Purchase Date</th>\n",
       "      <th>Recency</th>\n",
       "      <th>Frequency</th>\n",
       "      <th>Monetary</th>\n",
       "      <th>R_rank_norm</th>\n",
       "      <th>F_rank_norm</th>\n",
       "      <th>M_rank_norm</th>\n",
       "      <th>RFM_Score</th>\n",
       "      <th>Customer_Segment</th>\n",
       "      <th>Cluster</th>\n",
       "    </tr>\n",
       "  </thead>\n",
       "  <tbody>\n",
       "    <tr>\n",
       "      <th>0</th>\n",
       "      <td>12346.0</td>\n",
       "      <td>2011-01-18 10:17:00</td>\n",
       "      <td>325</td>\n",
       "      <td>2</td>\n",
       "      <td>0.00</td>\n",
       "      <td>3.87</td>\n",
       "      <td>98.41</td>\n",
       "      <td>98.96</td>\n",
       "      <td>4.23</td>\n",
       "      <td>High Value Customers</td>\n",
       "      <td>1</td>\n",
       "    </tr>\n",
       "    <tr>\n",
       "      <th>1</th>\n",
       "      <td>12347.0</td>\n",
       "      <td>2011-12-07 15:52:00</td>\n",
       "      <td>1</td>\n",
       "      <td>182</td>\n",
       "      <td>4310.00</td>\n",
       "      <td>97.72</td>\n",
       "      <td>12.00</td>\n",
       "      <td>7.30</td>\n",
       "      <td>1.11</td>\n",
       "      <td>Lost Customers</td>\n",
       "      <td>3</td>\n",
       "    </tr>\n",
       "    <tr>\n",
       "      <th>2</th>\n",
       "      <td>12348.0</td>\n",
       "      <td>2011-09-25 13:13:00</td>\n",
       "      <td>74</td>\n",
       "      <td>31</td>\n",
       "      <td>1797.24</td>\n",
       "      <td>38.18</td>\n",
       "      <td>58.47</td>\n",
       "      <td>22.30</td>\n",
       "      <td>1.74</td>\n",
       "      <td>Low Value Customers</td>\n",
       "      <td>3</td>\n",
       "    </tr>\n",
       "    <tr>\n",
       "      <th>3</th>\n",
       "      <td>12349.0</td>\n",
       "      <td>2011-11-21 09:51:00</td>\n",
       "      <td>18</td>\n",
       "      <td>73</td>\n",
       "      <td>1757.55</td>\n",
       "      <td>72.97</td>\n",
       "      <td>33.60</td>\n",
       "      <td>22.90</td>\n",
       "      <td>1.67</td>\n",
       "      <td>Low Value Customers</td>\n",
       "      <td>3</td>\n",
       "    </tr>\n",
       "    <tr>\n",
       "      <th>4</th>\n",
       "      <td>12350.0</td>\n",
       "      <td>2011-02-02 16:01:00</td>\n",
       "      <td>309</td>\n",
       "      <td>17</td>\n",
       "      <td>334.40</td>\n",
       "      <td>5.58</td>\n",
       "      <td>75.91</td>\n",
       "      <td>70.08</td>\n",
       "      <td>3.10</td>\n",
       "      <td>Medium Value Customers</td>\n",
       "      <td>1</td>\n",
       "    </tr>\n",
       "  </tbody>\n",
       "</table>\n",
       "</div>"
      ],
      "text/plain": [
       "   Customer ID  Last Purchase Date  Recency  Frequency  Monetary  R_rank_norm  \\\n",
       "0      12346.0 2011-01-18 10:17:00      325          2      0.00         3.87   \n",
       "1      12347.0 2011-12-07 15:52:00        1        182   4310.00        97.72   \n",
       "2      12348.0 2011-09-25 13:13:00       74         31   1797.24        38.18   \n",
       "3      12349.0 2011-11-21 09:51:00       18         73   1757.55        72.97   \n",
       "4      12350.0 2011-02-02 16:01:00      309         17    334.40         5.58   \n",
       "\n",
       "   F_rank_norm  M_rank_norm  RFM_Score        Customer_Segment  Cluster  \n",
       "0        98.41        98.96       4.23    High Value Customers        1  \n",
       "1        12.00         7.30       1.11          Lost Customers        3  \n",
       "2        58.47        22.30       1.74     Low Value Customers        3  \n",
       "3        33.60        22.90       1.67     Low Value Customers        3  \n",
       "4        75.91        70.08       3.10  Medium Value Customers        1  "
      ]
     },
     "execution_count": 77,
     "metadata": {},
     "output_type": "execute_result"
    }
   ],
   "source": [
    "test.head()"
   ]
  },
  {
   "cell_type": "code",
   "execution_count": 78,
   "id": "243b0702",
   "metadata": {},
   "outputs": [
    {
     "data": {
      "image/png": "[encoded data removed]",
      "text/plain": [
       "<Figure size 432x288 with 1 Axes>"
      ]
     },
     "metadata": {
      "needs_background": "light"
     },
     "output_type": "display_data"
    }
   ],
   "source": [
    "plt.scatter(test[test['Cluster'] == 4]['Recency'], test[test['Cluster'] == 4]['Monetary'], cmap='red', label='4')\n",
    "plt.scatter(test[test['Cluster'] == 0]['Recency'], test[test['Cluster'] == 0]['Monetary'], cmap='blue', label='0')\n",
    "plt.legend()\n",
    "plt.xlabel('Recency')\n",
    "plt.ylabel('Monetary')\n",
    "plt.show()"
   ]
  },
  {
   "cell_type": "code",
   "execution_count": 80,
   "id": "af7470ae",
   "metadata": {},
   "outputs": [
    {
     "data": {
      "image/png": "[encoded data removed]",
      "text/plain": [
       "<Figure size 1440x504 with 1 Axes>"
      ]
     },
     "metadata": {
      "needs_background": "light"
     },
     "output_type": "display_data"
    }
   ],
   "source": [
    "clusters = sorted(test['Cluster'].unique().tolist())\n",
    "plt.figure(figsize=(20,7))\n",
    "for i in clusters:\n",
    "    plt.scatter(test[test['Cluster']==i]['RFM_Score'], test[test['Cluster']==i]['Monetary'], label = i, alpha=0.7)\n",
    "plt.legend()\n",
    "plt.show()"
   ]
  }
 ],
 "metadata": {
  "interpreter": {
   "hash": "684a929911644278ef1e010c188edb36212ce2fc95d3e0d202cd20850387b768"
  },
  "kernelspec": {
   "display_name": "Python 3 (ipykernel)",
   "language": "python",
   "name": "python3"
  },
  "language_info": {
   "codemirror_mode": {
    "name": "ipython",
    "version": 3
   },
   "file_extension": ".py",
   "mimetype": "text/x-python",
   "name": "python",
   "nbconvert_exporter": "python",
   "pygments_lexer": "ipython3",
   "version": "3.9.7"
  }
 },
 "nbformat": 4,
 "nbformat_minor": 5
}
